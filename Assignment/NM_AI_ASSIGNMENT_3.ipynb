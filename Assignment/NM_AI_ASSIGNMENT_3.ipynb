{
  "nbformat": 4,
  "nbformat_minor": 0,
  "metadata": {
    "colab": {
      "provenance": []
    },
    "kernelspec": {
      "name": "python3",
      "display_name": "Python 3"
    },
    "language_info": {
      "name": "python"
    }
  },
  "cells": [
    {
      "cell_type": "code",
      "source": [
        "!unzip '/content/animals.zip'"
      ],
      "metadata": {
        "colab": {
          "base_uri": "https://localhost:8080/"
        },
        "id": "_FBu5zNCBrFc",
        "outputId": "93e002ab-5949-46bb-9239-b82e8e4e6e34"
      },
      "execution_count": null,
      "outputs": [
        {
          "output_type": "stream",
          "name": "stdout",
          "text": [
            "Archive:  /content/animals.zip\n",
            "  inflating: animals/animals/bears/39d27b6e2b.jpg  \n",
            "  inflating: animals/animals/bears/26f9a8f6e9.jpg  \n",
            "  inflating: animals/animals/bears/25ad0adb55.jpg  \n",
            "  inflating: animals/animals/bears/5687a6bcec.jpg  \n",
            "  inflating: animals/animals/bears/4ab1a3197a.jpg  \n",
            "  inflating: animals/animals/bears/4cb42bf550.jpg  \n",
            "  inflating: animals/animals/bears/1eda26b7f5.jpg  \n",
            "  inflating: animals/animals/bears/283a497e0e.jpg  \n",
            "  inflating: animals/animals/bears/6bee43b688.jpg  \n",
            "  inflating: animals/animals/bears/9a34b276e2.jpg  \n",
            "  inflating: animals/animals/bears/3dbd23430d.jpg  \n",
            "  inflating: animals/animals/bears/8ded9df224.jpg  \n",
            "  inflating: animals/animals/bears/0f61069510.jpg  \n",
            "  inflating: animals/animals/bears/039b2ae790.jpg  \n",
            "  inflating: animals/animals/bears/048d7b29e3.jpg  \n",
            "  inflating: animals/animals/bears/25e21b4f3e.jpg  \n",
            "  inflating: animals/animals/bears/4e7dc3eb5f.jpg  \n",
            "  inflating: animals/animals/bears/0f6b575750.jpg  \n",
            "  inflating: animals/animals/bears/8fccd0fedd.jpg  \n",
            "  inflating: animals/animals/bears/28cf1633e6.jpg  \n",
            "  inflating: animals/animals/bears/831f7bd81b.jpg  \n",
            "  inflating: animals/animals/bears/290cd7afc5.jpg  \n",
            "  inflating: animals/animals/bears/1971d6e226.jpg  \n",
            "  inflating: animals/animals/bears/5dfb1c44b4.jpg  \n",
            "  inflating: animals/animals/crows/495ee7079c.jpg  \n",
            "  inflating: animals/animals/bears/7c4f6d1f97.jpg  \n",
            "  inflating: animals/animals/bears/36a8de3afb.jpg  \n",
            "  inflating: animals/animals/bears/116d9b7f88.jpg  \n",
            "  inflating: animals/animals/bears/506eee4ad2.jpg  \n",
            "  inflating: animals/animals/crows/5bd195cf29.jpg  \n",
            "  inflating: animals/animals/crows/7a171dca50.jpg  \n",
            "  inflating: animals/animals/bears/0e6a8744de.jpg  \n",
            "  inflating: animals/animals/bears/9f5fc65189.jpg  \n",
            "  inflating: animals/animals/crows/666df1dde7.jpg  \n",
            "  inflating: animals/animals/bears/50de227a21.jpg  \n",
            "  inflating: animals/animals/bears/22ea4eea68.jpg  \n",
            "  inflating: animals/animals/bears/87a4b68284.jpg  \n",
            "  inflating: animals/animals/bears/093836b753.jpg  \n",
            "  inflating: animals/animals/bears/513d459586.jpg  \n",
            "  inflating: animals/animals/bears/7ad4697892.jpg  \n",
            "  inflating: animals/animals/bears/98efff8440.jpg  \n",
            "  inflating: animals/animals/bears/4286c87550.jpg  \n",
            "  inflating: animals/animals/crows/6dab0b74ff.jpg  \n",
            "  inflating: animals/animals/bears/090234b385.jpg  \n",
            "  inflating: animals/animals/bears/3a8b120f53.jpg  \n",
            "  inflating: animals/animals/crows/9d61244f2a.jpg  \n",
            "  inflating: animals/animals/crows/0cfbaa338f.jpg  \n",
            "  inflating: animals/animals/crows/197c1012ba.jpg  \n",
            "  inflating: animals/animals/bears/5f0ccad194.jpg  \n",
            "  inflating: animals/animals/bears/561c2bfe97.jpg  \n",
            "  inflating: animals/animals/bears/385cd10acb.jpg  \n",
            "  inflating: animals/animals/crows/98aa731ab3.jpg  \n",
            "  inflating: animals/animals/bears/08e665796d.jpg  \n",
            "  inflating: animals/animals/bears/90c8120829.jpg  \n",
            "  inflating: animals/animals/bears/1b890605d5.jpg  \n",
            "  inflating: animals/animals/bears/8cf44a21ba.jpg  \n",
            "  inflating: animals/animals/bears/1ebb88dff2.jpg  \n",
            "  inflating: animals/animals/crows/720bed337f.jpg  \n",
            "  inflating: animals/animals/crows/378fc98f4f.jpg  \n",
            "  inflating: animals/animals/crows/09cf92f743.jpg  \n",
            "  inflating: animals/animals/crows/83b28a30aa.jpg  \n",
            "  inflating: animals/animals/bears/6d4f05236d.jpg  \n",
            "  inflating: animals/animals/crows/08d39d0f4d.jpg  \n",
            "  inflating: animals/animals/bears/8ab6a06ff9.jpg  \n",
            "  inflating: animals/animals/crows/484d3397a2.jpg  \n",
            "  inflating: animals/animals/bears/458f3c80a1.jpg  \n",
            "  inflating: animals/animals/crows/85e5dcd314.jpg  \n",
            "  inflating: animals/animals/bears/28f3e554e6.jpg  \n",
            "  inflating: animals/animals/bears/5db7b4c807.jpg  \n",
            "  inflating: animals/animals/bears/4384ef0218.jpg  \n",
            "  inflating: animals/animals/crows/511e0951f8.jpg  \n",
            "  inflating: animals/animals/crows/77fefab966.jpg  \n",
            "  inflating: animals/animals/crows/7fc98f7b2a.jpg  \n",
            "  inflating: animals/animals/crows/376fae5ad1.jpg  \n",
            "  inflating: animals/animals/bears/04e5d04320.jpg  \n",
            "  inflating: animals/animals/crows/685d6f3c1d.jpg  \n",
            "  inflating: animals/animals/crows/5feb2100f9.jpg  \n",
            "  inflating: animals/animals/crows/259fec3fd7.jpg  \n",
            "  inflating: animals/animals/crows/4df1dc7310.jpg  \n",
            "  inflating: animals/animals/crows/97d6ef43cd.jpg  \n",
            "  inflating: animals/animals/crows/0c1a3fdd20.jpg  \n",
            "  inflating: animals/animals/crows/4dcac6039e.jpg  \n",
            "  inflating: animals/animals/bears/6da5c2a437.jpg  \n",
            "  inflating: animals/animals/bears/8e7bbfe4df.jpg  \n",
            "  inflating: animals/animals/crows/81def64446.jpg  \n",
            "  inflating: animals/animals/crows/1d586ca67a.jpg  \n",
            "  inflating: animals/animals/crows/6d60806c01.jpg  \n",
            "  inflating: animals/animals/bears/30f9c0dcd8.jpg  \n",
            "  inflating: animals/animals/crows/79ecd16df8.jpg  \n",
            "  inflating: animals/animals/crows/96a3d9dbd7.jpg  \n",
            "  inflating: animals/animals/crows/4dc054d71e.jpg  \n",
            "  inflating: animals/animals/crows/3d828ee706.jpg  \n",
            "  inflating: animals/animals/crows/368b89d59d.jpg  \n",
            "  inflating: animals/animals/crows/5bbfea04ef.jpg  \n",
            "  inflating: animals/animals/crows/1bded6ea70.jpg  \n",
            "  inflating: animals/animals/crows/61ae3e6346.jpg  \n",
            "  inflating: animals/animals/crows/8a6716039b.jpg  \n",
            "  inflating: animals/animals/crows/3a29010611.jpg  \n",
            "  inflating: animals/animals/bears/2a868ca175.jpg  \n",
            "  inflating: animals/animals/crows/7faf24f23c.jpg  \n",
            "  inflating: animals/animals/crows/3e8d462116.jpg  \n",
            "  inflating: animals/animals/crows/08a181b048.jpg  \n",
            "  inflating: animals/animals/crows/83ac6b6c8d.jpg  \n",
            "  inflating: animals/animals/crows/607e6e0a8e.jpg  \n",
            "  inflating: animals/animals/crows/5e97037a44.jpg  \n",
            "  inflating: animals/animals/crows/6d713ab135.jpg  \n",
            "  inflating: animals/animals/rats/7abb1944a1.jpg  \n",
            "  inflating: animals/animals/crows/3bc2b28fdd.jpg  \n",
            "  inflating: animals/animals/rats/4a36e3634a.jpg  \n",
            "  inflating: animals/animals/crows/7f995e322c.jpg  \n",
            "  inflating: animals/animals/crows/8b94b5d529.jpg  \n",
            "  inflating: animals/animals/rats/03eb1b314b.jpg  \n",
            "  inflating: animals/animals/rats/9f1a82530f.jpg  \n",
            "  inflating: animals/animals/rats/1c222f95f8.jpg  \n",
            "  inflating: animals/animals/crows/94be0c5a37.jpg  \n",
            "  inflating: animals/animals/crows/9d1cf4c0cf.jpg  \n",
            "  inflating: animals/animals/crows/1ecc081899.jpg  \n",
            "  inflating: animals/animals/bears/86581a8ae9.jpg  \n",
            "  inflating: animals/animals/crows/2c784b864a.jpg  \n",
            "  inflating: animals/animals/rats/3755f95bd5.jpg  \n",
            "  inflating: animals/animals/rats/643e101886.jpg  \n",
            "  inflating: animals/animals/rats/4aa7f5ff1d.jpg  \n",
            "  inflating: animals/animals/crows/71aad6f53b.jpg  \n",
            "  inflating: animals/animals/rats/25da4ae00a.jpg  \n",
            "  inflating: animals/animals/rats/9323d918ed.jpg  \n",
            "  inflating: animals/animals/rats/6f50c4d836.jpg  \n",
            "  inflating: animals/animals/rats/68a7630f5c.jpg  \n",
            "  inflating: animals/animals/crows/5bb0d903fc.jpg  \n",
            "  inflating: animals/animals/rats/7b0499114b.jpg  \n",
            "  inflating: animals/animals/rats/20a23cf2c7.jpg  \n",
            "  inflating: animals/animals/rats/8aa3b2afbe.jpg  \n",
            "  inflating: animals/animals/rats/48cec317f8.jpg  \n",
            "  inflating: animals/animals/rats/4a90236fd2.jpg  \n",
            "  inflating: animals/animals/rats/53db8925d3.jpg  \n",
            "  inflating: animals/animals/crows/1d15117ae2.jpg  \n",
            "  inflating: animals/animals/crows/2caed0387c.jpg  \n",
            "  inflating: animals/animals/crows/06a9c44c55.jpg  \n",
            "  inflating: animals/animals/rats/0a00f7a061.jpg  \n",
            "  inflating: animals/animals/rats/3a4bd740a0.jpg  \n",
            "  inflating: animals/animals/rats/120f65f860.jpg  \n",
            "  inflating: animals/animals/rats/86a3cfa716.jpg  \n",
            "  inflating: animals/animals/rats/537d446abd.jpg  \n",
            "  inflating: animals/animals/rats/5c6b9a64d1.jpg  \n",
            "  inflating: animals/animals/rats/268e4225b7.jpg  \n",
            "  inflating: animals/animals/rats/94ea667177.jpg  \n",
            "  inflating: animals/animals/rats/33eb3e6475.jpg  \n",
            "  inflating: animals/animals/rats/65b819fb36.jpg  \n",
            "  inflating: animals/animals/rats/1a7e08e47c.jpg  \n",
            "  inflating: animals/animals/rats/8c96f6e9f0.jpg  \n",
            "  inflating: animals/animals/rats/5eb8847c62.jpg  \n",
            "  inflating: animals/animals/rats/35ea12b897.jpg  \n",
            "  inflating: animals/animals/rats/657b444fee.jpg  \n",
            "  inflating: animals/animals/rats/684fe8ce23.jpg  \n",
            "  inflating: animals/animals/rats/3f6cbf9e69.jpg  \n",
            "  inflating: animals/animals/rats/151d88cdf9.jpg  \n",
            "  inflating: animals/animals/rats/62da137ddc.jpg  \n",
            "  inflating: animals/animals/rats/06b52e60de.jpg  \n",
            "  inflating: animals/animals/rats/3f259a7887.jpg  \n",
            "  inflating: animals/animals/rats/86bbba4c3d.jpg  \n",
            "  inflating: animals/animals/rats/9c9144de63.jpg  \n",
            "  inflating: animals/animals/rats/0cc98fee57.jpg  \n",
            "  inflating: animals/animals/rats/52b6d8a06b.jpg  \n",
            "  inflating: animals/animals/elephants/1aac205025.jpg  \n",
            "  inflating: animals/animals/crows/03c7cea31f.jpg  \n",
            "  inflating: animals/animals/rats/9a0c6a09df.jpg  \n",
            "  inflating: animals/animals/rats/15aa222a2f.jpg  \n",
            "  inflating: animals/animals/rats/4b038131a9.jpg  \n",
            "  inflating: animals/animals/rats/856e826937.jpg  \n",
            "  inflating: animals/animals/rats/50cd6cea07.jpg  \n",
            "  inflating: animals/animals/elephants/6faa7275fd.jpg  \n",
            "  inflating: animals/animals/elephants/4f7dce13d9.jpg  \n",
            "  inflating: animals/animals/rats/884a611535.jpg  \n",
            "  inflating: animals/animals/rats/8002b47f8b.jpg  \n",
            "  inflating: animals/animals/rats/0d21db0c78.jpg  \n",
            "  inflating: animals/animals/rats/550d80120c.jpg  \n",
            "  inflating: animals/animals/rats/01c2e571ec.jpg  \n",
            "  inflating: animals/animals/elephants/5b37e80a84.jpg  \n",
            "  inflating: animals/animals/rats/356f82abc7.jpg  \n",
            "  inflating: animals/animals/rats/391ce46fdb.jpg  \n",
            "  inflating: animals/animals/elephants/032ef781ef.jpg  \n",
            "  inflating: animals/animals/elephants/3c82e731e0.jpg  \n",
            "  inflating: animals/animals/elephants/27f0f7f555.jpg  \n",
            "  inflating: animals/animals/elephants/4b0406eb70.jpg  \n",
            "  inflating: animals/animals/elephants/8ee3b0e5f5.jpg  \n",
            "  inflating: animals/animals/elephants/27d28e5d8b.jpg  \n",
            "  inflating: animals/animals/rats/42c4c9bf8d.jpg  \n",
            "  inflating: animals/animals/elephants/66ca05ab12.jpg  \n",
            "  inflating: animals/animals/elephants/10ee8625c0.jpg  \n",
            "  inflating: animals/animals/elephants/2efd71c54e.jpg  \n",
            "  inflating: animals/animals/elephants/5d7d178594.jpg  \n",
            "  inflating: animals/animals/elephants/9f23f879e5.jpg  \n",
            "  inflating: animals/animals/elephants/0e757af2d5.jpg  \n",
            "  inflating: animals/animals/elephants/0f3f8d6a15.jpg  \n",
            "  inflating: animals/animals/elephants/6c28066ea3.jpg  \n",
            "  inflating: animals/animals/elephants/5c8e73a595.jpg  \n",
            "  inflating: animals/animals/elephants/0e81eb0721.jpg  \n",
            "  inflating: animals/animals/rats/62e423553c.jpg  \n",
            "  inflating: animals/animals/elephants/1d84834b1a.jpg  \n",
            "  inflating: animals/animals/elephants/57ab95b826.jpg  \n",
            "  inflating: animals/animals/elephants/3eea4b31c6.jpg  \n",
            "  inflating: animals/animals/elephants/48fe954ed2.jpg  \n",
            "  inflating: animals/animals/elephants/24dd5cb3a6.jpg  \n",
            "  inflating: animals/animals/elephants/8d9950ed68.jpg  \n",
            "  inflating: animals/animals/elephants/2cb580feff.jpg  \n",
            "  inflating: animals/animals/elephants/55ec112288.jpg  \n",
            "  inflating: animals/animals/elephants/3c9d9b5adf.jpg  \n",
            "  inflating: animals/animals/elephants/4a291fe31f.jpg  \n",
            "  inflating: animals/animals/elephants/0ac6979eca.jpg  \n",
            "  inflating: animals/animals/rats/3e1eb0425e.jpg  \n",
            "  inflating: animals/animals/elephants/26d834d229.jpg  \n",
            "  inflating: animals/animals/elephants/16d29a1dc0.jpg  \n",
            "  inflating: animals/animals/elephants/0c57e72045.jpg  \n",
            "  inflating: animals/animals/elephants/18d2849164.jpg  \n",
            "  inflating: animals/animals/elephants/4dacf9a3f0.jpg  \n",
            "  inflating: animals/animals/elephants/4cccdaa27d.jpg  \n",
            "  inflating: animals/animals/elephants/8a24e8d62a.jpg  \n",
            "  inflating: animals/animals/elephants/2f3534e28e.jpg  \n",
            "  inflating: animals/animals/elephants/6ecfd5e88c.jpg  \n",
            "  inflating: animals/animals/elephants/9b05a25de1.jpg  \n",
            "  inflating: animals/animals/elephants/5e67ac6642.jpg  \n",
            "  inflating: animals/animals/elephants/3e526579ed.jpg  \n",
            "  inflating: animals/animals/elephants/5edec096c0.jpg  \n",
            "  inflating: animals/animals/elephants/40dc2cedec.jpg  \n",
            "  inflating: animals/animals/elephants/6d8a9a8f8f.jpg  \n",
            "  inflating: animals/animals/elephants/70c11aab2e.jpg  \n",
            "  inflating: animals/animals/elephants/72c584b509.jpg  \n",
            "  inflating: animals/animals/rats/4838cd45a9.jpg  \n",
            "  inflating: animals/animals/elephants/7ff62f898d.jpg  \n",
            "  inflating: animals/animals/elephants/43b74457d1.jpg  \n",
            "  inflating: animals/animals/elephants/79fbd8424b.jpg  \n",
            "  inflating: animals/animals/elephants/4f76a2f076.jpg  \n",
            "  inflating: animals/animals/elephants/2c4dcd1d1e.jpg  \n",
            "  inflating: animals/animals/elephants/5f9155af55.jpg  \n",
            "  inflating: animals/animals/elephants/23b99fb3bf.jpg  \n",
            "  inflating: animals/animals/elephants/75fefe8441.jpg  \n",
            "  inflating: animals/animals/rats/377eb2641c.jpg  \n",
            "  inflating: animals/animals/elephants/12b9c94601.jpg  \n",
            "  inflating: animals/animals/elephants/31c31736c6.jpg  \n",
            "  inflating: animals/animals/elephants/6d07c435dd.jpg  \n",
            "  inflating: animals/animals/elephants/8c2d171b9d.jpg  \n"
          ]
        }
      ]
    },
    {
      "cell_type": "code",
      "source": [
        "from tensorflow.keras.preprocessing.image import ImageDataGenerator"
      ],
      "metadata": {
        "id": "K9iLQpZ_ByT9"
      },
      "execution_count": null,
      "outputs": []
    },
    {
      "cell_type": "code",
      "source": [
        "train_datagen = ImageDataGenerator(rescale=1./255,\n",
        "                                   zoom_range=0.2,\n",
        "                                   horizontal_flip=True)"
      ],
      "metadata": {
        "id": "KNUGpI7hB9Re"
      },
      "execution_count": null,
      "outputs": []
    },
    {
      "cell_type": "code",
      "source": [
        "test_datagen = ImageDataGenerator(rescale=1./255)"
      ],
      "metadata": {
        "id": "aMjBmOHACAQt"
      },
      "execution_count": null,
      "outputs": []
    },
    {
      "cell_type": "code",
      "source": [
        "xtrain = train_datagen.flow_from_directory('/content/animals/animals',\n",
        "                                           target_size=(64,64),\n",
        "                                           class_mode='categorical',\n",
        "                                           batch_size=100)"
      ],
      "metadata": {
        "colab": {
          "base_uri": "https://localhost:8080/"
        },
        "id": "XkzmcZ7zCDqn",
        "outputId": "db94b9cd-c1d0-4740-a212-14b37d9043be"
      },
      "execution_count": null,
      "outputs": [
        {
          "output_type": "stream",
          "name": "stdout",
          "text": [
            "Found 240 images belonging to 4 classes.\n"
          ]
        }
      ]
    },
    {
      "cell_type": "code",
      "source": [
        "xtest = test_datagen.flow_from_directory('/content/animals/animals',\n",
        "                                         target_size=(64,64),\n",
        "                                         class_mode='categorical',\n",
        "                                         batch_size=100)"
      ],
      "metadata": {
        "colab": {
          "base_uri": "https://localhost:8080/"
        },
        "id": "jOkTiayYCKxn",
        "outputId": "aeff6bb8-c556-433f-b301-e0f165c475df"
      },
      "execution_count": null,
      "outputs": [
        {
          "output_type": "stream",
          "name": "stdout",
          "text": [
            "Found 240 images belonging to 4 classes.\n"
          ]
        }
      ]
    },
    {
      "cell_type": "code",
      "source": [
        "from tensorflow.keras.models import Sequential\n",
        "from tensorflow.keras.layers import Convolution2D, MaxPooling2D, Flatten, Dense"
      ],
      "metadata": {
        "id": "5pBj2qh3Ca4L"
      },
      "execution_count": null,
      "outputs": []
    },
    {
      "cell_type": "code",
      "source": [
        "model = Sequential() # Initializing sequential model\n",
        "model.add(Convolution2D(32,(3,3),activation='relu',input_shape=(64,64,3))) # convolution layer\n",
        "model.add(MaxPooling2D(pool_size=(2, 2))) # Max pooling layer\n",
        "model.add(Flatten()) # Flatten layer\n",
        "model.add(Dense(300,activation='relu')) # Hidden layer 1\n",
        "model.add(Dense(150,activation='relu')) # Hidden layer 2\n",
        "model.add(Dense(4,activation='softmax')) # Output layer"
      ],
      "metadata": {
        "id": "I9PmLDS4Cd17"
      },
      "execution_count": null,
      "outputs": []
    },
    {
      "cell_type": "code",
      "source": [
        "model.compile(optimizer='adam',loss='categorical_crossentropy',metrics=['accuracy'])"
      ],
      "metadata": {
        "id": "xN12ISMcCg5N"
      },
      "execution_count": null,
      "outputs": []
    },
    {
      "cell_type": "code",
      "source": [
        "model.fit(xtrain,\n",
        "                    steps_per_epoch=len(xtrain),\n",
        "                    epochs=10,\n",
        "                    validation_data=xtest,\n",
        "                    validation_steps=len(xtest))"
      ],
      "metadata": {
        "colab": {
          "base_uri": "https://localhost:8080/"
        },
        "id": "uvOExdcKUYY_",
        "outputId": "dd6b7d18-8ada-4e89-8232-aa5fa03785fe"
      },
      "execution_count": null,
      "outputs": [
        {
          "output_type": "stream",
          "name": "stdout",
          "text": [
            "Epoch 1/10\n",
            "3/3 [==============================] - 14s 5s/step - loss: 4.4130 - accuracy: 0.2458 - val_loss: 6.0981 - val_accuracy: 0.2500\n",
            "Epoch 2/10\n",
            "3/3 [==============================] - 11s 5s/step - loss: 4.4382 - accuracy: 0.3083 - val_loss: 2.9157 - val_accuracy: 0.2500\n",
            "Epoch 3/10\n",
            "3/3 [==============================] - 11s 5s/step - loss: 1.9565 - accuracy: 0.3000 - val_loss: 1.5755 - val_accuracy: 0.3542\n",
            "Epoch 4/10\n",
            "3/3 [==============================] - 10s 4s/step - loss: 1.5912 - accuracy: 0.3167 - val_loss: 1.3504 - val_accuracy: 0.3208\n",
            "Epoch 5/10\n",
            "3/3 [==============================] - 10s 4s/step - loss: 1.2713 - accuracy: 0.4458 - val_loss: 1.3421 - val_accuracy: 0.4083\n",
            "Epoch 6/10\n",
            "3/3 [==============================] - 11s 4s/step - loss: 1.3088 - accuracy: 0.3958 - val_loss: 1.1978 - val_accuracy: 0.4625\n",
            "Epoch 7/10\n",
            "3/3 [==============================] - 11s 4s/step - loss: 1.2159 - accuracy: 0.4542 - val_loss: 1.1495 - val_accuracy: 0.5125\n",
            "Epoch 8/10\n",
            "3/3 [==============================] - 9s 3s/step - loss: 1.1403 - accuracy: 0.5208 - val_loss: 1.0609 - val_accuracy: 0.5292\n",
            "Epoch 9/10\n",
            "3/3 [==============================] - 11s 4s/step - loss: 1.0942 - accuracy: 0.5375 - val_loss: 1.0252 - val_accuracy: 0.5500\n",
            "Epoch 10/10\n",
            "3/3 [==============================] - 15s 7s/step - loss: 1.0481 - accuracy: 0.5667 - val_loss: 1.0008 - val_accuracy: 0.6125\n"
          ]
        },
        {
          "output_type": "execute_result",
          "data": {
            "text/plain": [
              "<keras.callbacks.History at 0x7f633f6657c0>"
            ]
          },
          "metadata": {},
          "execution_count": 10
        }
      ]
    },
    {
      "cell_type": "code",
      "source": [
        "model.save('animal.h5')"
      ],
      "metadata": {
        "id": "idGs-S1HVASW"
      },
      "execution_count": null,
      "outputs": []
    },
    {
      "cell_type": "code",
      "source": [
        "from tensorflow.keras.preprocessing import image\n",
        "import numpy as np"
      ],
      "metadata": {
        "id": "xuFoH5y4VFyz"
      },
      "execution_count": null,
      "outputs": []
    },
    {
      "cell_type": "code",
      "source": [
        "# Testing 1\n",
        "\n",
        "img = image.load_img('/content/animals/animals/elephants/0ac6979eca.jpg',target_size=(64,64)) # Reading image\n",
        "x = image.img_to_array(img) # Converting image into array\n",
        "x = np.expand_dims(x,axis=0) # expanding Dimensions\n",
        "pred = np.argmax(model.predict(x)) # Predicting the higher probablity index\n",
        "op = ['bears','crows','elephants','rats'] # Creating list\n",
        "op[pred] # List indexing with output"
      ],
      "metadata": {
        "colab": {
          "base_uri": "https://localhost:8080/",
          "height": 53
        },
        "id": "p-fW_cQXVLLS",
        "outputId": "95d23d87-e1a9-4ee4-fcd9-c781a87b2656"
      },
      "execution_count": null,
      "outputs": [
        {
          "output_type": "stream",
          "name": "stdout",
          "text": [
            "1/1 [==============================] - 0s 212ms/step\n"
          ]
        },
        {
          "output_type": "execute_result",
          "data": {
            "text/plain": [
              "'elephants'"
            ],
            "application/vnd.google.colaboratory.intrinsic+json": {
              "type": "string"
            }
          },
          "metadata": {},
          "execution_count": 13
        }
      ]
    },
    {
      "cell_type": "code",
      "source": [
        "# Testing 2\n",
        "\n",
        "img = image.load_img('/content/animals/animals/bears/04e5d04320.jpg',target_size=(64,64)) # Reading image\n",
        "x = image.img_to_array(img) # Converting image into array\n",
        "x = np.expand_dims(x,axis=0) # expanding Dimensions\n",
        "pred = np.argmax(model.predict(x)) # Predicting the higher probablity index\n",
        "op = ['bears','crows','elephants','rats'] # Creating list\n",
        "op[pred] # List indexing with output"
      ],
      "metadata": {
        "colab": {
          "base_uri": "https://localhost:8080/",
          "height": 53
        },
        "id": "VSrWMg_TVWGX",
        "outputId": "a539f895-82a6-4254-e59c-841d73894721"
      },
      "execution_count": null,
      "outputs": [
        {
          "output_type": "stream",
          "name": "stdout",
          "text": [
            "1/1 [==============================] - 0s 37ms/step\n"
          ]
        },
        {
          "output_type": "execute_result",
          "data": {
            "text/plain": [
              "'bears'"
            ],
            "application/vnd.google.colaboratory.intrinsic+json": {
              "type": "string"
            }
          },
          "metadata": {},
          "execution_count": 14
        }
      ]
    },
    {
      "cell_type": "code",
      "source": [
        "# Testing 3\n",
        "\n",
        "img = image.load_img('/content/animals/animals/crows/06a9c44c55.jpg',target_size=(64,64)) # Reading image\n",
        "x = image.img_to_array(img) # Converting image into array\n",
        "x = np.expand_dims(x,axis=0) # expanding Dimensions\n",
        "pred = np.argmax(model.predict(x)) # Predicting the higher probablity index\n",
        "op = ['bears','crows','elephants','rats'] # Creating list\n",
        "op[pred] # List indexing with output"
      ],
      "metadata": {
        "colab": {
          "base_uri": "https://localhost:8080/",
          "height": 53
        },
        "id": "hcEqQG70Vd_H",
        "outputId": "3bb2c31b-6cc8-4bb8-ff7d-eeaa78693e41"
      },
      "execution_count": null,
      "outputs": [
        {
          "output_type": "stream",
          "name": "stdout",
          "text": [
            "1/1 [==============================] - 0s 48ms/step\n"
          ]
        },
        {
          "output_type": "execute_result",
          "data": {
            "text/plain": [
              "'crows'"
            ],
            "application/vnd.google.colaboratory.intrinsic+json": {
              "type": "string"
            }
          },
          "metadata": {},
          "execution_count": 15
        }
      ]
    },
    {
      "cell_type": "code",
      "source": [
        "# Testing 4\n",
        "\n",
        "img = image.load_img('/content/animals/animals/rats/0cc98fee57.jpg',target_size=(64,64)) # Reading image\n",
        "x = image.img_to_array(img) # Converting image into array\n",
        "x = np.expand_dims(x,axis=0) # expanding Dimensions\n",
        "pred = np.argmax(model.predict(x)) # Predicting the higher probablity index\n",
        "op = ['bears','crows','elephants','rats'] # Creating list\n",
        "op[pred] # List indexing with output"
      ],
      "metadata": {
        "colab": {
          "base_uri": "https://localhost:8080/",
          "height": 53
        },
        "id": "MGbgFStKVswo",
        "outputId": "93a791db-1f8a-4d94-edf6-f47587618572"
      },
      "execution_count": null,
      "outputs": [
        {
          "output_type": "stream",
          "name": "stdout",
          "text": [
            "1/1 [==============================] - 0s 40ms/step\n"
          ]
        },
        {
          "output_type": "execute_result",
          "data": {
            "text/plain": [
              "'elephants'"
            ],
            "application/vnd.google.colaboratory.intrinsic+json": {
              "type": "string"
            }
          },
          "metadata": {},
          "execution_count": 16
        }
      ]
    },
    {
      "cell_type": "code",
      "source": [
        "xtrain.class_indices"
      ],
      "metadata": {
        "colab": {
          "base_uri": "https://localhost:8080/"
        },
        "id": "nC1gRSHkV_2T",
        "outputId": "0f6475d6-d24e-4937-b492-a235a039e292"
      },
      "execution_count": null,
      "outputs": [
        {
          "output_type": "execute_result",
          "data": {
            "text/plain": [
              "{'bears': 0, 'crows': 1, 'elephants': 2, 'rats': 3}"
            ]
          },
          "metadata": {},
          "execution_count": 17
        }
      ]
    },
    {
      "cell_type": "code",
      "source": [
        "from tensorflow.keras.callbacks import EarlyStopping, ReduceLROnPlateau"
      ],
      "metadata": {
        "id": "nlCc-k9cWCe8"
      },
      "execution_count": null,
      "outputs": []
    },
    {
      "cell_type": "code",
      "source": [
        "early_stop = EarlyStopping(monitor='val_accuracy', \n",
        "                           patience=5)\n",
        "\n",
        "lr = ReduceLROnPlateau(monitor='val_accuaracy', \n",
        "                       factor=0.5, \n",
        "                       min_lr=0.00001)\n",
        "\n",
        "callback = [early_stop,lr]"
      ],
      "metadata": {
        "id": "PYmjhucqWcSE"
      },
      "execution_count": null,
      "outputs": []
    },
    {
      "cell_type": "code",
      "source": [
        "model.fit(xtrain,\n",
        "                    steps_per_epoch=len(xtrain),\n",
        "                    epochs=100,\n",
        "                    callbacks=callback,\n",
        "                    validation_data=xtest,\n",
        "                    validation_steps=len(xtest))"
      ],
      "metadata": {
        "colab": {
          "base_uri": "https://localhost:8080/"
        },
        "id": "JtLrj4pzWen3",
        "outputId": "df52d459-089e-4807-a50f-aa078b260bf9"
      },
      "execution_count": null,
      "outputs": [
        {
          "output_type": "stream",
          "name": "stdout",
          "text": [
            "Epoch 1/100\n",
            "3/3 [==============================] - ETA: 0s - loss: 0.1216 - accuracy: 0.9708"
          ]
        },
        {
          "output_type": "stream",
          "name": "stderr",
          "text": [
            "WARNING:tensorflow:Learning rate reduction is conditioned on metric `val_accuaracy` which is not available. Available metrics are: loss,accuracy,val_loss,val_accuracy,lr\n"
          ]
        },
        {
          "output_type": "stream",
          "name": "stdout",
          "text": [
            "\b\b\b\b\b\b\b\b\b\b\b\b\b\b\b\b\b\b\b\b\b\b\b\b\b\b\b\b\b\b\b\b\b\b\b\b\b\b\b\b\b\b\b\b\b\b\b\b\b\b\b\b\b\b\b\b\b\b\b\b\b\b\b\b\b\b\b\b\b\b\b\b\b\b\b\b\b\b\b\b\r3/3 [==============================] - 13s 6s/step - loss: 0.1216 - accuracy: 0.9708 - val_loss: 0.0966 - val_accuracy: 0.9833 - lr: 0.0010\n",
            "Epoch 2/100\n",
            "3/3 [==============================] - ETA: 0s - loss: 0.1095 - accuracy: 0.9875"
          ]
        },
        {
          "output_type": "stream",
          "name": "stderr",
          "text": [
            "WARNING:tensorflow:Learning rate reduction is conditioned on metric `val_accuaracy` which is not available. Available metrics are: loss,accuracy,val_loss,val_accuracy,lr\n"
          ]
        },
        {
          "output_type": "stream",
          "name": "stdout",
          "text": [
            "\b\b\b\b\b\b\b\b\b\b\b\b\b\b\b\b\b\b\b\b\b\b\b\b\b\b\b\b\b\b\b\b\b\b\b\b\b\b\b\b\b\b\b\b\b\b\b\b\b\b\b\b\b\b\b\b\b\b\b\b\b\b\b\b\b\b\b\b\b\b\b\b\b\b\b\b\b\b\b\b\r3/3 [==============================] - 10s 4s/step - loss: 0.1095 - accuracy: 0.9875 - val_loss: 0.0929 - val_accuracy: 0.9833 - lr: 0.0010\n",
            "Epoch 3/100\n",
            "3/3 [==============================] - ETA: 0s - loss: 0.0920 - accuracy: 0.9958"
          ]
        },
        {
          "output_type": "stream",
          "name": "stderr",
          "text": [
            "WARNING:tensorflow:Learning rate reduction is conditioned on metric `val_accuaracy` which is not available. Available metrics are: loss,accuracy,val_loss,val_accuracy,lr\n"
          ]
        },
        {
          "output_type": "stream",
          "name": "stdout",
          "text": [
            "\b\b\b\b\b\b\b\b\b\b\b\b\b\b\b\b\b\b\b\b\b\b\b\b\b\b\b\b\b\b\b\b\b\b\b\b\b\b\b\b\b\b\b\b\b\b\b\b\b\b\b\b\b\b\b\b\b\b\b\b\b\b\b\b\b\b\b\b\b\b\b\b\b\b\b\b\b\b\b\b\r3/3 [==============================] - 11s 4s/step - loss: 0.0920 - accuracy: 0.9958 - val_loss: 0.0480 - val_accuracy: 0.9917 - lr: 0.0010\n",
            "Epoch 4/100\n",
            "3/3 [==============================] - ETA: 0s - loss: 0.1030 - accuracy: 0.9750"
          ]
        },
        {
          "output_type": "stream",
          "name": "stderr",
          "text": [
            "WARNING:tensorflow:Learning rate reduction is conditioned on metric `val_accuaracy` which is not available. Available metrics are: loss,accuracy,val_loss,val_accuracy,lr\n"
          ]
        },
        {
          "output_type": "stream",
          "name": "stdout",
          "text": [
            "\b\b\b\b\b\b\b\b\b\b\b\b\b\b\b\b\b\b\b\b\b\b\b\b\b\b\b\b\b\b\b\b\b\b\b\b\b\b\b\b\b\b\b\b\b\b\b\b\b\b\b\b\b\b\b\b\b\b\b\b\b\b\b\b\b\b\b\b\b\b\b\b\b\b\b\b\b\b\b\b\r3/3 [==============================] - 10s 4s/step - loss: 0.1030 - accuracy: 0.9750 - val_loss: 0.0883 - val_accuracy: 0.9750 - lr: 0.0010\n",
            "Epoch 5/100\n",
            "3/3 [==============================] - ETA: 0s - loss: 0.0834 - accuracy: 0.9917"
          ]
        },
        {
          "output_type": "stream",
          "name": "stderr",
          "text": [
            "WARNING:tensorflow:Learning rate reduction is conditioned on metric `val_accuaracy` which is not available. Available metrics are: loss,accuracy,val_loss,val_accuracy,lr\n"
          ]
        },
        {
          "output_type": "stream",
          "name": "stdout",
          "text": [
            "\b\b\b\b\b\b\b\b\b\b\b\b\b\b\b\b\b\b\b\b\b\b\b\b\b\b\b\b\b\b\b\b\b\b\b\b\b\b\b\b\b\b\b\b\b\b\b\b\b\b\b\b\b\b\b\b\b\b\b\b\b\b\b\b\b\b\b\b\b\b\b\b\b\b\b\b\b\b\b\b\r3/3 [==============================] - 10s 4s/step - loss: 0.0834 - accuracy: 0.9917 - val_loss: 0.0929 - val_accuracy: 0.9708 - lr: 0.0010\n",
            "Epoch 6/100\n",
            "3/3 [==============================] - ETA: 0s - loss: 0.0728 - accuracy: 1.0000"
          ]
        },
        {
          "output_type": "stream",
          "name": "stderr",
          "text": [
            "WARNING:tensorflow:Learning rate reduction is conditioned on metric `val_accuaracy` which is not available. Available metrics are: loss,accuracy,val_loss,val_accuracy,lr\n"
          ]
        },
        {
          "output_type": "stream",
          "name": "stdout",
          "text": [
            "\b\b\b\b\b\b\b\b\b\b\b\b\b\b\b\b\b\b\b\b\b\b\b\b\b\b\b\b\b\b\b\b\b\b\b\b\b\b\b\b\b\b\b\b\b\b\b\b\b\b\b\b\b\b\b\b\b\b\b\b\b\b\b\b\b\b\b\b\b\b\b\b\b\b\b\b\b\b\b\b\r3/3 [==============================] - 12s 5s/step - loss: 0.0728 - accuracy: 1.0000 - val_loss: 0.0359 - val_accuracy: 1.0000 - lr: 0.0010\n",
            "Epoch 7/100\n",
            "3/3 [==============================] - ETA: 0s - loss: 0.0590 - accuracy: 0.9958"
          ]
        },
        {
          "output_type": "stream",
          "name": "stderr",
          "text": [
            "WARNING:tensorflow:Learning rate reduction is conditioned on metric `val_accuaracy` which is not available. Available metrics are: loss,accuracy,val_loss,val_accuracy,lr\n"
          ]
        },
        {
          "output_type": "stream",
          "name": "stdout",
          "text": [
            "\b\b\b\b\b\b\b\b\b\b\b\b\b\b\b\b\b\b\b\b\b\b\b\b\b\b\b\b\b\b\b\b\b\b\b\b\b\b\b\b\b\b\b\b\b\b\b\b\b\b\b\b\b\b\b\b\b\b\b\b\b\b\b\b\b\b\b\b\b\b\b\b\b\b\b\b\b\b\b\b\r3/3 [==============================] - 15s 6s/step - loss: 0.0590 - accuracy: 0.9958 - val_loss: 0.0628 - val_accuracy: 0.9917 - lr: 0.0010\n",
            "Epoch 8/100\n",
            "3/3 [==============================] - ETA: 0s - loss: 0.0541 - accuracy: 0.9958"
          ]
        },
        {
          "output_type": "stream",
          "name": "stderr",
          "text": [
            "WARNING:tensorflow:Learning rate reduction is conditioned on metric `val_accuaracy` which is not available. Available metrics are: loss,accuracy,val_loss,val_accuracy,lr\n"
          ]
        },
        {
          "output_type": "stream",
          "name": "stdout",
          "text": [
            "\b\b\b\b\b\b\b\b\b\b\b\b\b\b\b\b\b\b\b\b\b\b\b\b\b\b\b\b\b\b\b\b\b\b\b\b\b\b\b\b\b\b\b\b\b\b\b\b\b\b\b\b\b\b\b\b\b\b\b\b\b\b\b\b\b\b\b\b\b\b\b\b\b\b\b\b\b\b\b\b\r3/3 [==============================] - 12s 5s/step - loss: 0.0541 - accuracy: 0.9958 - val_loss: 0.0468 - val_accuracy: 0.9958 - lr: 0.0010\n",
            "Epoch 9/100\n",
            "3/3 [==============================] - ETA: 0s - loss: 0.0563 - accuracy: 0.9917"
          ]
        },
        {
          "output_type": "stream",
          "name": "stderr",
          "text": [
            "WARNING:tensorflow:Learning rate reduction is conditioned on metric `val_accuaracy` which is not available. Available metrics are: loss,accuracy,val_loss,val_accuracy,lr\n"
          ]
        },
        {
          "output_type": "stream",
          "name": "stdout",
          "text": [
            "\b\b\b\b\b\b\b\b\b\b\b\b\b\b\b\b\b\b\b\b\b\b\b\b\b\b\b\b\b\b\b\b\b\b\b\b\b\b\b\b\b\b\b\b\b\b\b\b\b\b\b\b\b\b\b\b\b\b\b\b\b\b\b\b\b\b\b\b\b\b\b\b\b\b\b\b\b\b\b\b\r3/3 [==============================] - 10s 5s/step - loss: 0.0563 - accuracy: 0.9917 - val_loss: 0.0377 - val_accuracy: 0.9958 - lr: 0.0010\n",
            "Epoch 10/100\n",
            "3/3 [==============================] - ETA: 0s - loss: 0.0485 - accuracy: 0.9958"
          ]
        },
        {
          "output_type": "stream",
          "name": "stderr",
          "text": [
            "WARNING:tensorflow:Learning rate reduction is conditioned on metric `val_accuaracy` which is not available. Available metrics are: loss,accuracy,val_loss,val_accuracy,lr\n"
          ]
        },
        {
          "output_type": "stream",
          "name": "stdout",
          "text": [
            "\b\b\b\b\b\b\b\b\b\b\b\b\b\b\b\b\b\b\b\b\b\b\b\b\b\b\b\b\b\b\b\b\b\b\b\b\b\b\b\b\b\b\b\b\b\b\b\b\b\b\b\b\b\b\b\b\b\b\b\b\b\b\b\b\b\b\b\b\b\b\b\b\b\b\b\b\b\b\b\b\r3/3 [==============================] - 10s 4s/step - loss: 0.0485 - accuracy: 0.9958 - val_loss: 0.0424 - val_accuracy: 0.9958 - lr: 0.0010\n",
            "Epoch 11/100\n",
            "3/3 [==============================] - ETA: 0s - loss: 0.0414 - accuracy: 1.0000"
          ]
        },
        {
          "output_type": "stream",
          "name": "stderr",
          "text": [
            "WARNING:tensorflow:Learning rate reduction is conditioned on metric `val_accuaracy` which is not available. Available metrics are: loss,accuracy,val_loss,val_accuracy,lr\n"
          ]
        },
        {
          "output_type": "stream",
          "name": "stdout",
          "text": [
            "\b\b\b\b\b\b\b\b\b\b\b\b\b\b\b\b\b\b\b\b\b\b\b\b\b\b\b\b\b\b\b\b\b\b\b\b\b\b\b\b\b\b\b\b\b\b\b\b\b\b\b\b\b\b\b\b\b\b\b\b\b\b\b\b\b\b\b\b\b\b\b\b\b\b\b\b\b\b\b\b\r3/3 [==============================] - 9s 3s/step - loss: 0.0414 - accuracy: 1.0000 - val_loss: 0.0319 - val_accuracy: 1.0000 - lr: 0.0010\n"
          ]
        },
        {
          "output_type": "execute_result",
          "data": {
            "text/plain": [
              "<keras.callbacks.History at 0x7f634cf45190>"
            ]
          },
          "metadata": {},
          "execution_count": 24
        }
      ]
    },
    {
      "cell_type": "code",
      "source": [
        "# Testing 4\n",
        "\n",
        "img = image.load_img('/content/animals/animals/rats/03eb1b314b.jpg',target_size=(64,64)) # Reading image\n",
        "x = image.img_to_array(img) # Converting image into array\n",
        "x = np.expand_dims(x,axis=0) # expanding Dimensions\n",
        "pred = np.argmax(model.predict(x)) # Predicting the higher probablity index\n",
        "op = ['bears','crows','elephants','rats'] # Creating list\n",
        "op[pred] # List indexing with output"
      ],
      "metadata": {
        "colab": {
          "base_uri": "https://localhost:8080/",
          "height": 53
        },
        "id": "_iAmf4lCZ2ZV",
        "outputId": "89cecacf-2501-45ca-cf90-c111208ff41f"
      },
      "execution_count": null,
      "outputs": [
        {
          "output_type": "stream",
          "name": "stdout",
          "text": [
            "1/1 [==============================] - 0s 39ms/step\n"
          ]
        },
        {
          "output_type": "execute_result",
          "data": {
            "text/plain": [
              "'elephants'"
            ],
            "application/vnd.google.colaboratory.intrinsic+json": {
              "type": "string"
            }
          },
          "metadata": {},
          "execution_count": 25
        }
      ]
    },
    {
      "cell_type": "code",
      "source": [
        "# Testing google image\n",
        "\n",
        "img = image.load_img('/content/2010-brown-bear.jpg',target_size=(64,64)) # Reading image\n",
        "x = image.img_to_array(img) # Converting image into array\n",
        "x = np.expand_dims(x,axis=0) # expanding Dimensions\n",
        "pred = np.argmax(model.predict(x)) # Predicting the higher probablity index\n",
        "op = ['bears','crows','elephants','rats'] # Creating list\n",
        "op[pred] # List indexing with output"
      ],
      "metadata": {
        "colab": {
          "base_uri": "https://localhost:8080/",
          "height": 53
        },
        "id": "L2pFU_aqhEQK",
        "outputId": "399a84dd-98ab-4ec2-f35e-5aa44facc0ab"
      },
      "execution_count": null,
      "outputs": [
        {
          "output_type": "stream",
          "name": "stdout",
          "text": [
            "1/1 [==============================] - 0s 28ms/step\n"
          ]
        },
        {
          "output_type": "execute_result",
          "data": {
            "text/plain": [
              "'elephants'"
            ],
            "application/vnd.google.colaboratory.intrinsic+json": {
              "type": "string"
            }
          },
          "metadata": {},
          "execution_count": 22
        }
      ]
    }
  ]
}